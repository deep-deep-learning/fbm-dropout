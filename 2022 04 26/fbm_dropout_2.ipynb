{
 "cells": [
  {
   "cell_type": "code",
   "execution_count": 37,
   "metadata": {},
   "outputs": [],
   "source": [
    "import torch\n",
    "from stochastic.processes.continuous import FractionalBrownianMotion\n",
    "import torch.nn as nn\n",
    "from torch import Tensor\n",
    "import math\n",
    "import matplotlib.pyplot as plt\n",
    "from matplotlib.patches import Rectangle\n",
    "\n",
    "class fbm_dropout_2(nn.Module):\n",
    "\n",
    "    def __init__(self, hurst: float, n_agents: int, max_epoch: int, grid_size: tuple, is_conv=False, show=False):\n",
    "\n",
    "        super().__init__()\n",
    "        \n",
    "        # a list of fbm's for x coordinate of \n",
    "        self.agents_x = []\n",
    "        self.agents_y = []\n",
    "        self.colors = []\n",
    "        self.n_agents = n_agents\n",
    "        self.grid_size = grid_size\n",
    "        self.is_conv = is_conv\n",
    "        self.show = show\n",
    "        for _ in range(n_agents):\n",
    "            fbm_x = FractionalBrownianMotion(hurst, t=1)\n",
    "            fbm_y = FractionalBrownianMotion(hurst, t=1)\n",
    "\n",
    "            self.agents_x.append((fbm_x.sample(100 * max_epoch) + torch.rand((1,)).item()) % 1)\n",
    "            self.agents_y.append((fbm_y.sample(100 * max_epoch) + torch.rand((1,)).item()) % 1)\n",
    "            color = torch.rand((3,))\n",
    "            color = (color[0].item(), color[1].item(), color[2].item())\n",
    "            self.colors.append(color)\n",
    "        \n",
    "        self.grid = self.get_grid()\n",
    "\n",
    "    def forward(self, input: Tensor, current_epoch) -> Tensor:\n",
    "        '''\n",
    "        given an input, return a dropped out output\n",
    "        where the dropout probability of each neuron\n",
    "        is determined by the fbm\n",
    "\n",
    "        args:\n",
    "            input: a Tensor with shape (batch_size, self.input_size)\n",
    "\n",
    "        '''\n",
    "        mask = self.get_mask(current_epoch)\n",
    "\n",
    "        return torch.mul(input, mask)\n",
    "\n",
    "    def get_mask(self, epoch: int) -> Tensor:\n",
    "\n",
    "        mask = self.is_touching(epoch)\n",
    "\n",
    "        return mask\n",
    "\n",
    "    def get_grid(self):\n",
    "\n",
    "        self.n_row = n_row = self.grid_size[1]\n",
    "        self.n_col = n_col = self.grid_size[0]\n",
    "\n",
    "        size_row = 1.0 / n_row\n",
    "        size_col = 1.0 / n_col\n",
    "\n",
    "        gap_y = size_row / 4\n",
    "        gap_x = size_col / 4\n",
    "\n",
    "        grid = {}\n",
    "        for x in range(n_col):\n",
    "            for y in range(n_row):\n",
    "                x_low = (x * size_col) + gap_x\n",
    "                y_low = (y * size_row) + gap_y\n",
    "                x_high = x_low + 2 * gap_x\n",
    "                y_high = y_low + 2 * gap_y\n",
    "                grid[(x,y)] = ((x_low, x_high), (y_low, y_high))\n",
    "\n",
    "        return grid\n",
    "\n",
    "    def is_touching(self, epoch: int):\n",
    "        \n",
    "        def is_in(agent_x, agent_y, g):\n",
    "            ((x_low, x_high), (y_low, y_high)) = g\n",
    "            for x,y  in zip(agent_x, agent_y):\n",
    "                if x_low <= x and x <= x_high and y_low <= y and y <= y_high:\n",
    "                    return True\n",
    "            return False\n",
    "\n",
    "        is_touching = torch.ones(self.grid_size)\n",
    "\n",
    "        t = epoch*100\n",
    "        curr_agent_x = [agent_x[t:t+100] for agent_x in self.agents_x]\n",
    "        curr_agent_y = [agent_y[t:t+100] for agent_y in self.agents_y]\n",
    "\n",
    "        if self.show:\n",
    "            fig, ax = plt.subplots()\n",
    "            for i in range(self.n_agents):\n",
    "                ax.scatter(curr_agent_x[i], curr_agent_y[i], s=1.0, color=self.colors[i])\n",
    "            for x in range(self.n_col):\n",
    "                for y in range(self.n_row):\n",
    "                    ((x_low, x_high), (y_low, y_high)) = self.grid[(x,y)]\n",
    "                    ax.add_patch(Rectangle((x_low, y_low), x_high - x_low, y_high - y_low,\n",
    "                                           facecolor='red', zorder=0))\n",
    "            ax.set_aspect('equal')\n",
    "            ax.set_xlim(0, 1)\n",
    "            ax.set_ylim(0, 1)\n",
    "            plt.show()\n",
    "        \n",
    "        for i in range(self.n_col):\n",
    "            for j in range(self.n_row):\n",
    "                for x, y in zip(curr_agent_x, curr_agent_y):\n",
    "                    if is_in(x, y, self.grid[(i,j)]):\n",
    "                        is_touching[(i,j)] = 0\n",
    "            \n",
    "        is_touching = torch.rot90(is_touching)\n",
    "        if self.is_conv:\n",
    "            return is_touching\n",
    "        return is_touching.reshape(-1)"
   ]
  },
  {
   "cell_type": "code",
   "execution_count": 40,
   "metadata": {},
   "outputs": [],
   "source": [
    "dropout = fbm_dropout_2(0.9, 2, 10, (3,3), True, True)"
   ]
  },
  {
   "cell_type": "code",
   "execution_count": 41,
   "metadata": {},
   "outputs": [
    {
     "data": {
      "image/png": "[encoded data removed]",
      "text/plain": [
       "<Figure size 432x288 with 1 Axes>"
      ]
     },
     "metadata": {
      "needs_background": "light"
     },
     "output_type": "display_data"
    },
    {
     "name": "stdout",
     "output_type": "stream",
     "text": [
      "tensor([[1., 1., 1.],\n",
      "        [1., 1., 1.],\n",
      "        [0., 1., 1.]])\n"
     ]
    },
    {
     "data": {
      "image/png": "[encoded data removed]",
      "text/plain": [
       "<Figure size 432x288 with 1 Axes>"
      ]
     },
     "metadata": {
      "needs_background": "light"
     },
     "output_type": "display_data"
    },
    {
     "name": "stdout",
     "output_type": "stream",
     "text": [
      "tensor([[1., 1., 1.],\n",
      "        [1., 1., 1.],\n",
      "        [1., 1., 1.]])\n"
     ]
    },
    {
     "data": {
      "image/png": "[encoded data removed]",
      "text/plain": [
       "<Figure size 432x288 with 1 Axes>"
      ]
     },
     "metadata": {
      "needs_background": "light"
     },
     "output_type": "display_data"
    },
    {
     "name": "stdout",
     "output_type": "stream",
     "text": [
      "tensor([[1., 1., 1.],\n",
      "        [1., 1., 0.],\n",
      "        [1., 1., 1.]])\n"
     ]
    },
    {
     "data": {
      "image/png": "[encoded data removed]",
      "text/plain": [
       "<Figure size 432x288 with 1 Axes>"
      ]
     },
     "metadata": {
      "needs_background": "light"
     },
     "output_type": "display_data"
    },
    {
     "name": "stdout",
     "output_type": "stream",
     "text": [
      "tensor([[1., 1., 1.],\n",
      "        [1., 1., 1.],\n",
      "        [1., 1., 1.]])\n"
     ]
    },
    {
     "data": {
      "image/png": "[encoded data removed]",
      "text/plain": [
       "<Figure size 432x288 with 1 Axes>"
      ]
     },
     "metadata": {
      "needs_background": "light"
     },
     "output_type": "display_data"
    },
    {
     "name": "stdout",
     "output_type": "stream",
     "text": [
      "tensor([[1., 1., 1.],\n",
      "        [1., 1., 1.],\n",
      "        [1., 1., 1.]])\n"
     ]
    },
    {
     "data": {
      "image/png": "[encoded data removed]",
      "text/plain": [
       "<Figure size 432x288 with 1 Axes>"
      ]
     },
     "metadata": {
      "needs_background": "light"
     },
     "output_type": "display_data"
    },
    {
     "name": "stdout",
     "output_type": "stream",
     "text": [
      "tensor([[1., 0., 1.],\n",
      "        [1., 1., 1.],\n",
      "        [1., 0., 1.]])\n"
     ]
    },
    {
     "data": {
      "image/png": "[encoded data removed]",
      "text/plain": [
       "<Figure size 432x288 with 1 Axes>"
      ]
     },
     "metadata": {
      "needs_background": "light"
     },
     "output_type": "display_data"
    },
    {
     "name": "stdout",
     "output_type": "stream",
     "text": [
      "tensor([[1., 1., 1.],\n",
      "        [1., 1., 1.],\n",
      "        [1., 0., 1.]])\n"
     ]
    },
    {
     "data": {
      "image/png": "[encoded data removed]",
      "text/plain": [
       "<Figure size 432x288 with 1 Axes>"
      ]
     },
     "metadata": {
      "needs_background": "light"
     },
     "output_type": "display_data"
    },
    {
     "name": "stdout",
     "output_type": "stream",
     "text": [
      "tensor([[0., 1., 1.],\n",
      "        [1., 1., 1.],\n",
      "        [1., 1., 1.]])\n"
     ]
    },
    {
     "data": {
      "image/png": "[encoded data removed]",
      "text/plain": [
       "<Figure size 432x288 with 1 Axes>"
      ]
     },
     "metadata": {
      "needs_background": "light"
     },
     "output_type": "display_data"
    },
    {
     "name": "stdout",
     "output_type": "stream",
     "text": [
      "tensor([[0., 1., 1.],\n",
      "        [0., 1., 1.],\n",
      "        [1., 1., 1.]])\n"
     ]
    },
    {
     "data": {
      "image/png": "[encoded data removed]",
      "text/plain": [
       "<Figure size 432x288 with 1 Axes>"
      ]
     },
     "metadata": {
      "needs_background": "light"
     },
     "output_type": "display_data"
    },
    {
     "name": "stdout",
     "output_type": "stream",
     "text": [
      "tensor([[1., 0., 1.],\n",
      "        [0., 1., 1.],\n",
      "        [1., 1., 1.]])\n"
     ]
    }
   ],
   "source": [
    "for epoch in range(10):\n",
    "    mask = dropout.get_mask(epoch)\n",
    "    print(mask)"
   ]
  },
  {
   "cell_type": "code",
   "execution_count": null,
   "metadata": {},
   "outputs": [],
   "source": []
  }
 ],
 "metadata": {
  "interpreter": {
   "hash": "24f55d993624c95f26cb6acc854642fe13f3cfa5a1c0f3e66bbe3e1f820a296e"
  },
  "kernelspec": {
   "display_name": "Python 3.8.5 ('fbm-dropout')",
   "language": "python",
   "name": "python3"
  },
  "language_info": {
   "codemirror_mode": {
    "name": "ipython",
    "version": 3
   },
   "file_extension": ".py",
   "mimetype": "text/x-python",
   "name": "python",
   "nbconvert_exporter": "python",
   "pygments_lexer": "ipython3",
   "version": "3.8.5"
  },
  "orig_nbformat": 4
 },
 "nbformat": 4,
 "nbformat_minor": 2
}
