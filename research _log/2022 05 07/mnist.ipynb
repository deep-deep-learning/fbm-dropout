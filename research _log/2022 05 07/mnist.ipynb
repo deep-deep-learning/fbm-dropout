{
 "cells": [
  {
   "cell_type": "code",
   "execution_count": 1,
   "metadata": {},
   "outputs": [],
   "source": [
    "from fbm_dropout.net import DenseNet, DenseNetFBM\n",
    "import torch.optim as optim\n",
    "import torch.nn as nn\n",
    "\n",
    "hidden_sizes = [256, 64]\n",
    "grid_sizes = [(16,16), (8,8)]\n",
    "n_agents = [16, 8]\n",
    "device='cuda'\n",
    "\n",
    "model = DenseNet(hidden_sizes, 0, device=device)\n",
    "optimizer = optim.Adam(model.parameters(), lr=0.001)\n",
    "\n",
    "model_dropout = DenseNet(hidden_sizes, .2, device=device)\n",
    "optimizer_dropout = optim.Adam(model_dropout.parameters(), lr=0.001)\n",
    "\n",
    "model_fbm_dropout = DenseNetFBM(hidden_sizes, n_agents, grid_sizes, show=False, device=device)\n",
    "optimizer_fbm_dropout = optim.Adam(model_fbm_dropout.parameters(), lr=0.001)\n",
    "\n",
    "criterion = nn.CrossEntropyLoss()"
   ]
  },
  {
   "cell_type": "code",
   "execution_count": 2,
   "metadata": {},
   "outputs": [],
   "source": [
    "import torch\n",
    "from fbm_dropout.dataset import get_MNIST_dataset\n",
    "\n",
    "trainset, testset = get_MNIST_dataset()\n",
    "batch_size = 64\n",
    "train_loader = torch.utils.data.DataLoader(trainset, batch_size=batch_size, shuffle=True)\n",
    "test_loader = torch.utils.data.DataLoader(testset, batch_size=batch_size, shuffle=True)"
   ]
  },
  {
   "cell_type": "code",
   "execution_count": 3,
   "metadata": {},
   "outputs": [
    {
     "name": "stdout",
     "output_type": "stream",
     "text": [
      "Epoch 0\n",
      "No Dropout : Train Loss 0.37, Test Acc 0.94\n",
      "Dropout    : Train Loss 0.44, Test Acc 0.94\n",
      "FBM Dropout: Train Loss 0.46, Test Acc 0.93\n"
     ]
    }
   ],
   "source": [
    "results = {}\n",
    "results['train loss'] = {}\n",
    "results['train loss']['no dropout'] = []\n",
    "results['train loss']['dropout'] = []\n",
    "results['train loss']['fbm dropout'] = []\n",
    "results['test acc'] = {}\n",
    "results['test acc']['no dropout'] = []\n",
    "results['test acc']['dropout'] = []\n",
    "results['test acc']['fbm dropout'] = []\n",
    "for epoch in range(10):\n",
    "    model.train()\n",
    "    model_dropout.train()\n",
    "    model_fbm_dropout.train()\n",
    "\n",
    "    running_loss = {}\n",
    "    running_loss['no dropout'] = running_loss['dropout'] = running_loss['fbm dropout'] = 0.0\n",
    "    for images, labels in train_loader:\n",
    "\n",
    "        images = images.view(images.shape[0], -1).to(device)\n",
    "        labels = labels.to(device)\n",
    "        optimizer.zero_grad()\n",
    "        optimizer_dropout.zero_grad()\n",
    "        optimizer_fbm_dropout.zero_grad()\n",
    "\n",
    "        output = model(images)\n",
    "        loss = criterion(output, labels)\n",
    "        loss.backward()\n",
    "        optimizer.step()\n",
    "        running_loss['no dropout'] += loss.item()\n",
    "\n",
    "        output_dropout = model_dropout(images)\n",
    "        loss_dropout = criterion(output_dropout, labels)\n",
    "        loss_dropout.backward()\n",
    "        optimizer_dropout.step()\n",
    "        running_loss['dropout'] += loss_dropout.item()\n",
    "\n",
    "        output_fbm_dropout = model_fbm_dropout(images)\n",
    "        loss_fbm_dropout = criterion(output_fbm_dropout, labels)\n",
    "        loss_fbm_dropout.backward()\n",
    "        optimizer_fbm_dropout.step()\n",
    "        running_loss['fbm dropout'] += loss_fbm_dropout.item()\n",
    "\n",
    "    results['train loss']['no dropout'].append(running_loss['no dropout'] / len(train_loader))\n",
    "    results['train loss']['dropout'].append(running_loss['dropout'] / len(train_loader))\n",
    "    results['train loss']['fbm dropout'].append(running_loss['fbm dropout'] / len(train_loader))\n",
    "\n",
    "    model.eval()\n",
    "    model_dropout.eval()\n",
    "    model_fbm_dropout.eval()\n",
    "    acc = acc_dropout = acc_fbm_dropout = 0.0\n",
    "    for images, labels in test_loader:\n",
    "        images = images.view(-1,784).to(device)\n",
    "        labels = labels.to(device)\n",
    "        output = model(images)\n",
    "        _, pred = torch.max(output, axis=1)\n",
    "        acc += torch.sum(pred==labels).item()\n",
    "\n",
    "        output_dropout = model_dropout(images)\n",
    "        _, pred_dropout = torch.max(output_dropout, axis=1)\n",
    "        acc_dropout += torch.sum(pred_dropout==labels).item()\n",
    "\n",
    "        output_fbm_dropout = model_fbm_dropout(images)\n",
    "        _, pred_fbm_dropout = torch.max(output_fbm_dropout, axis=1)\n",
    "        acc_fbm_dropout += torch.sum(pred_fbm_dropout==labels).item()\n",
    "    \n",
    "    results['test acc']['no dropout'].append(acc / len(testset))\n",
    "    results['test acc']['dropout'].append(acc_dropout / len(testset))\n",
    "    results['test acc']['fbm dropout'].append(acc_fbm_dropout / len(testset))\n",
    "\n",
    "    \n",
    "    print('Epoch {}'.format(epoch))\n",
    "    print('No Dropout : Train Loss {:.2f}, Test Acc {:.2f}'.format(results['train loss']['no dropout'][-1], results['test acc']['no dropout'][-1]))\n",
    "    print('Dropout    : Train Loss {:.2f}, Test Acc {:.2f}'.format(results['train loss']['dropout'][-1], results['test acc']['dropout'][-1]))\n",
    "    print('FBM Dropout: Train Loss {:.4f}, Test Acc {:.4f}, Drop Rate {:.4f} {:.4f}'.format(results['train loss']['fbm dropout'][-1], \n",
    "                                                                                        results['test acc']['fbm dropout'][-1], \n",
    "                                                                                        model_fbm_dropout.dropout_1.curr_dropout_rate, \n",
    "                                                                                        model_fbm_dropout.dropout_2.curr_dropout_rate))"
   ]
  },
  {
   "cell_type": "code",
   "execution_count": null,
   "metadata": {},
   "outputs": [],
   "source": []
  }
 ],
 "metadata": {
  "interpreter": {
   "hash": "605a678d18d7f82412353ec2848b73285636e9c2317f42e623515b66baed35ab"
  },
  "kernelspec": {
   "display_name": "Python 3.8.10 ('fbm_dropout')",
   "language": "python",
   "name": "python3"
  },
  "language_info": {
   "codemirror_mode": {
    "name": "ipython",
    "version": 3
   },
   "file_extension": ".py",
   "mimetype": "text/x-python",
   "name": "python",
   "nbconvert_exporter": "python",
   "pygments_lexer": "ipython3",
   "version": "3.8.10"
  },
  "orig_nbformat": 4
 },
 "nbformat": 4,
 "nbformat_minor": 2
}
